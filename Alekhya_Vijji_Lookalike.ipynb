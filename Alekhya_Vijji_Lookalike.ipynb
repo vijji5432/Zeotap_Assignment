{
  "nbformat": 4,
  "nbformat_minor": 0,
  "metadata": {
    "colab": {
      "provenance": [],
      "authorship_tag": "ABX9TyMJJmCeJYzmFuqQZ6+bLgMT",
      "include_colab_link": true
    },
    "kernelspec": {
      "name": "python3",
      "display_name": "Python 3"
    },
    "language_info": {
      "name": "python"
    }
  },
  "cells": [
    {
      "cell_type": "markdown",
      "metadata": {
        "id": "view-in-github",
        "colab_type": "text"
      },
      "source": [
        "<a href=\"https://colab.research.google.com/github/vijji5432/Zeotap_Assignment/blob/main/Alekhya_Vijji_Lookalike.ipynb\" target=\"_parent\"><img src=\"https://colab.research.google.com/assets/colab-badge.svg\" alt=\"Open In Colab\"/></a>"
      ]
    },
    {
      "cell_type": "code",
      "execution_count": 5,
      "metadata": {
        "colab": {
          "base_uri": "https://localhost:8080/"
        },
        "id": "lCcn1VnDACK_",
        "outputId": "def46113-f4b2-48db-e7e7-2cb58f5dc8af"
      },
      "outputs": [
        {
          "output_type": "stream",
          "name": "stdout",
          "text": [
            "\n",
            "✅ Lookalike Model Completed. Results saved to CSV.\n"
          ]
        }
      ],
      "source": [
        "\n",
        "#Lookalike Model - Customer Similarity\n",
        "\n",
        "#  Import Required Libraries\n",
        "import pandas as pd\n",
        "import numpy as np\n",
        "from sklearn.preprocessing import StandardScaler\n",
        "from sklearn.neighbors import NearestNeighbors\n",
        "\n",
        "# Load and Merge Data\n",
        "customers = pd.read_csv(\"/content/Customers.csv\")\n",
        "transactions = pd.read_csv(\"/content/Transactions.csv\")\n",
        "products = pd.read_csv(\"/content/Products.csv\")\n",
        "\n",
        "merged_df = transactions.merge(customers, on=\"CustomerID\").merge(products, on=\"ProductID\")\n",
        "merged_df.rename(columns={\"Price_x\": \"TransactionPrice\", \"Price_y\": \"ProductPrice\"}, inplace=True)\n",
        "\n",
        "\n",
        "# Feature Engineering for Similarity\n",
        "customer_features = merged_df.groupby(\"CustomerID\").agg({\n",
        "    \"TotalValue\": \"sum\",\n",
        "    \"Quantity\": \"sum\",\n",
        "    \"ProductPrice\": \"mean\"\n",
        "}).reset_index()\n",
        "\n",
        "# Normalize Features\n",
        "scaler = StandardScaler()\n",
        "scaled_features = scaler.fit_transform(customer_features.iloc[:, 1:])\n",
        "\n",
        "# Build Nearest Neighbors Model\n",
        "nbrs = NearestNeighbors(n_neighbors=4, metric='euclidean')\n",
        "nbrs.fit(scaled_features)\n",
        "\n",
        "# Find Lookalike Customers\n",
        "lookalike_dict = {}\n",
        "for i, cust_id in enumerate(customer_features[\"CustomerID\"][:20]):\n",
        "    distances, indices = nbrs.kneighbors([scaled_features[i]])\n",
        "    lookalike_list = [(customer_features.iloc[idx][\"CustomerID\"], round(dist, 4)) for idx, dist in zip(indices[0][1:], distances[0][1:])]\n",
        "    lookalike_dict[cust_id] = lookalike_list\n",
        "\n",
        "# Save Lookalike Results\n",
        "lookalike_df = pd.DataFrame({\n",
        "    \"CustomerID\": list(lookalike_dict.keys()),\n",
        "    \"Lookalikes\": [str(lookalike_dict[cust]) for cust in lookalike_dict]\n",
        "})\n",
        "\n",
        "lookalike_df.to_csv(\"Alekhya_Vijji_Lookalike.csv\", index=False)\n",
        "\n",
        "print(\"\\n Lookalike Model Completed. Results saved to CSV.\")\n"
      ]
    }
  ]
}