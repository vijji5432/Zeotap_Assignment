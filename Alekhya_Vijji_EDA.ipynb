pip install pandas numpy seaborn matplotlib scikit-learn
import pandas as pd
import numpy as np
import seaborn as sns
import matplotlib.pyplot as plt
from sklearn.cluster import KMeans
from sklearn.preprocessing import StandardScaler
from sklearn.metrics import davies_bouldin_score
from sklearn.neighbors import NearestNeighbors
customers = pd.read_csv("/mnt/data/Customers.csv")
transactions = pd.read_csv("/mnt/data/Transactions.csv")
products = pd.read_csv("/mnt/data/Products.csv")
print(customers.info())
print(transactions.info())
print(products.info())

print(customers.describe())
print(transactions.describe())
print(products.describe())

print(customers.head())
print(transactions.head())
print(products.head())
print(customers.isnull().sum())
print(transactions.isnull().sum())
print(products.isnull().sum())

# Fill missing values or drop if necessary

customers.dropna(inplace=True)
transactions.dropna(inplace=True)
products.dropna(inplace=True)
merged_df = transactions.merge(customers, on="CustomerID").merge(products, on="ProductID")

# Distribution of Transactions

sns.histplot(merged_df['TotalValue'], bins=30, kde=True)
plt.title("Distribution of Total Transaction Value")
plt.show()

# Transactions per Customer

customer_counts = merged_df['CustomerID'].value_counts()
sns.histplot(customer_counts, bins=30)
plt.title("Number of Transactions per Customer")
plt.show()

# Top-selling products

top_products = merged_df.groupby("ProductName")["Quantity"].sum().sort_values(ascending=False).head(10)
print(top_products)
merged_df['TransactionDate'] = pd.to_datetime(merged_df['TransactionDate'])
merged_df.set_index('TransactionDate').resample('M')['TotalValue'].sum().plot()
plt.title("Monthly Revenue Trend")
plt.show()
